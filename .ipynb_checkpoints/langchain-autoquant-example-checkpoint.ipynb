{
 "cells": [
  {
   "cell_type": "code",
   "execution_count": null,
   "id": "cebd12cf",
   "metadata": {},
   "outputs": [],
   "source": [
    "import os\n",
    "from dotenv import load_dotenv"
   ]
  },
  {
   "cell_type": "code",
   "execution_count": null,
   "id": "a2fe23f2",
   "metadata": {},
   "outputs": [],
   "source": [
    "load_dotenv()"
   ]
  },
  {
   "cell_type": "code",
   "execution_count": null,
   "id": "e01fd9e9",
   "metadata": {},
   "outputs": [],
   "source": [
    "COHERE_API_KEY = os.environ['COHERE_API_KEY']"
   ]
  },
  {
   "cell_type": "code",
   "execution_count": null,
   "id": "c0c49e1c",
   "metadata": {},
   "outputs": [],
   "source": [
    "from langchain.agents import Tool\n",
    "from langchain.agents import AgentType\n",
    "from langchain.memory import ConversationBufferMemory\n",
    "from langchain.llms import Cohere, OpenAI\n",
    "from langchain.utilities import SerpAPIWrapper\n",
    "from langchain.agents import initialize_agent"
   ]
  },
  {
   "cell_type": "code",
   "execution_count": null,
   "id": "749c275a",
   "metadata": {},
   "outputs": [],
   "source": [
    "from tools import (\n",
    "    MarketauxTool,\n",
    "    SecTool,\n",
    "    AlpacaBuyOrderTool,\n",
    "    AlpacaBuyingPowerTool,\n",
    "    AlpacaCurrentPositionsTool,\n",
    "    AlpacaGainLossStatusTool,\n",
    "    AlpacaOpenOrdersTool,\n",
    "    AlpacaSellOrderTool\n",
    ")"
   ]
  },
  {
   "cell_type": "code",
   "execution_count": null,
   "id": "be51010f",
   "metadata": {},
   "outputs": [],
   "source": [
    "tools = [\n",
    "    MarketauxTool(),\n",
    "    SecTool(),\n",
    "    AlpacaBuyOrderTool(),\n",
    "    AlpacaBuyingPowerTool(),\n",
    "    AlpacaCurrentPositionsTool(),\n",
    "    AlpacaGainLossStatusTool(),\n",
    "    AlpacaOpenOrdersTool(),\n",
    "    AlpacaSellOrderTool()\n",
    "]"
   ]
  },
  {
   "cell_type": "code",
   "execution_count": null,
   "id": "2629de82",
   "metadata": {},
   "outputs": [],
   "source": [
    "def create_agent_chain():\n",
    "    system_message = \"\"\"\n",
    "    You are a portfolio manager agent. Your job is the manage the stock portoflio based on latest financial news.\n",
    "    Always understand buying power and current positions of the portfolio before performing trades actions on a stocks based \n",
    "    on your recommendations. \n",
    "    If you're sending a JSON payload that includes a calculation, perform the calculation in advance and only send the result.\n",
    "    \"\"\"\n",
    "\n",
    "    FORMAT_INSTRUCTIONS = \"\"\"To use a tool, please use the following format:\n",
    "    '''\n",
    "    Thought: Do I need to use a tool? Yes\n",
    "    Action: the action to take, should be one of [{tool_names}]\n",
    "    Action Input: the input to the action\n",
    "    Observation: the result of the action\n",
    "    '''\n",
    "\n",
    "    When you have gathered all the information on a trading decision, just write the last thought to the user in the form of a response.\n",
    "\n",
    "    '''\n",
    "    Thought: Do I need to use a tool? No\n",
    "    AI: [write last thought response]\n",
    "    '''\n",
    "    \"\"\"\n",
    "\n",
    "    SUFFIX = '''\n",
    "\n",
    "    Begin!\n",
    "\n",
    "    Previous conversation history:\n",
    "    {chat_history}\n",
    "\n",
    "    Instructions: {input}\n",
    "    {agent_scratchpad}\n",
    "    '''\n",
    "\n",
    "    memory = ConversationBufferMemory(memory_key=\"chat_history\")\n",
    "    llm = Cohere(cohere_api_key=COHERE_API_KEY)\n",
    "    return initialize_agent(tools,\n",
    "                            llm,\n",
    "                            agent=AgentType.ZERO_SHOT_REACT_DESCRIPTION,\n",
    "                            verbose=True,\n",
    "                            memory=memory,\n",
    "                            handle_parsing_errors=True,\n",
    "                            agent_kwargs={\n",
    "                                'system_message': system_message, \n",
    "                                'format_instructions': FORMAT_INSTRUCTIONS,\n",
    "                                'suffix': SUFFIX\n",
    "                            })"
   ]
  },
  {
   "cell_type": "code",
   "execution_count": null,
   "id": "8753da60",
   "metadata": {},
   "outputs": [],
   "source": [
    "res = agent.run(input=query)"
   ]
  },
  {
   "cell_type": "code",
   "execution_count": null,
   "id": "6b30eb1d",
   "metadata": {},
   "outputs": [],
   "source": [
    "res"
   ]
  },
  {
   "cell_type": "code",
   "execution_count": null,
   "id": "5988fb46",
   "metadata": {},
   "outputs": [],
   "source": [
    "# def prompt_chain(query, agent):\n",
    "#     print(agent.run(input=query))\n",
    "#     prompt = input(\"Whould you like to ask another question? \")\n",
    "#     prompt_chain(prompt)"
   ]
  },
  {
   "cell_type": "code",
   "execution_count": null,
   "id": "1b1bb830",
   "metadata": {},
   "outputs": [],
   "source": [
    "# def main():\n",
    "#     prompt = input(\"What do you want to know? \")\n",
    "#     agent = create_agent_chain()\n",
    "#     prompt_chain(prompt, agent)"
   ]
  },
  {
   "cell_type": "code",
   "execution_count": null,
   "id": "c8e3210c",
   "metadata": {},
   "outputs": [],
   "source": [
    "# if __name__ == \"__main__\":\n",
    "#     main()"
   ]
  },
  {
   "cell_type": "code",
   "execution_count": null,
   "id": "8d24693b",
   "metadata": {},
   "outputs": [],
   "source": []
  }
 ],
 "metadata": {
  "kernelspec": {
   "display_name": "Python 3 (ipykernel)",
   "language": "python",
   "name": "python3"
  },
  "language_info": {
   "codemirror_mode": {
    "name": "ipython",
    "version": 3
   },
   "file_extension": ".py",
   "mimetype": "text/x-python",
   "name": "python",
   "nbconvert_exporter": "python",
   "pygments_lexer": "ipython3",
   "version": "3.11.5"
  }
 },
 "nbformat": 4,
 "nbformat_minor": 5
}
