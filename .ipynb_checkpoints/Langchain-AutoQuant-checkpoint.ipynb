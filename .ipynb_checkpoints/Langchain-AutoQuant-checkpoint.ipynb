{
 "cells": [
  {
   "cell_type": "code",
   "execution_count": 1,
   "id": "cebd12cf",
   "metadata": {},
   "outputs": [],
   "source": [
    "import os\n",
    "from dotenv import load_dotenv"
   ]
  },
  {
   "cell_type": "code",
   "execution_count": 2,
   "id": "a2fe23f2",
   "metadata": {},
   "outputs": [
    {
     "data": {
      "text/plain": [
       "True"
      ]
     },
     "execution_count": 2,
     "metadata": {},
     "output_type": "execute_result"
    }
   ],
   "source": [
    "load_dotenv()"
   ]
  },
  {
   "cell_type": "code",
   "execution_count": 3,
   "id": "e01fd9e9",
   "metadata": {},
   "outputs": [],
   "source": [
    "COHERE_API_KEY = os.environ['COHERE_API_KEY']"
   ]
  },
  {
   "cell_type": "code",
   "execution_count": 4,
   "id": "c0c49e1c",
   "metadata": {},
   "outputs": [],
   "source": [
    "from langchain.agents import Tool\n",
    "from langchain.agents import AgentType\n",
    "from langchain.memory import ConversationBufferMemory\n",
    "from langchain.llms import Cohere, OpenAI\n",
    "from langchain.utilities import SerpAPIWrapper\n",
    "from langchain.agents import initialize_agent"
   ]
  },
  {
   "cell_type": "code",
   "execution_count": 5,
   "id": "749c275a",
   "metadata": {},
   "outputs": [],
   "source": [
    "from tools import MarketauxTool"
   ]
  },
  {
   "cell_type": "code",
   "execution_count": 6,
   "id": "c3de017e",
   "metadata": {},
   "outputs": [],
   "source": [
    "marketaux = MarketauxTool()"
   ]
  },
  {
   "cell_type": "code",
   "execution_count": 7,
   "id": "160982a2",
   "metadata": {},
   "outputs": [
    {
     "data": {
      "text/plain": [
       "'\\n        Use to retrieve the latest market news on securities. Returns a JSON of article summaries with highlights \\n        and article URLs for requesting more information.\\n        '"
      ]
     },
     "execution_count": 7,
     "metadata": {},
     "output_type": "execute_result"
    }
   ],
   "source": [
    "marketaux.description"
   ]
  },
  {
   "cell_type": "code",
   "execution_count": 8,
   "id": "be51010f",
   "metadata": {},
   "outputs": [],
   "source": [
    "tools = [\n",
    "    MarketauxTool()\n",
    "]"
   ]
  },
  {
   "cell_type": "code",
   "execution_count": 9,
   "id": "5d13a9a7",
   "metadata": {},
   "outputs": [],
   "source": [
    "memory = ConversationBufferMemory(memory_key=\"chat_history\")"
   ]
  },
  {
   "cell_type": "code",
   "execution_count": 10,
   "id": "43edc2dc",
   "metadata": {},
   "outputs": [],
   "source": [
    "llm = Cohere(cohere_api_key=COHERE_API_KEY)"
   ]
  },
  {
   "cell_type": "code",
   "execution_count": 12,
   "id": "af691e95",
   "metadata": {},
   "outputs": [],
   "source": [
    "agent_chain = initialize_agent(tools, llm, agent=AgentType.ZERO_SHOT_REACT_DESCRIPTION, verbose=True, memory=memory)"
   ]
  },
  {
   "cell_type": "code",
   "execution_count": 13,
   "id": "2629de82",
   "metadata": {},
   "outputs": [
    {
     "name": "stdout",
     "output_type": "stream",
     "text": [
      "\n",
      "\n",
      "\u001b[1m> Entering new AgentExecutor chain...\u001b[0m\n",
      "\u001b[32;1m\u001b[1;3m I need to retrieve the financial news for AAPL, GOOGL, and AMZN\n",
      "Action: Marketaux\n",
      "Action Input: AAPL,GOOGL,AMZN\u001b[0m\n",
      "Observation: \u001b[36;1m\u001b[1;3m[{'summary': '30 Most Important Scientific Discoveries of All Time. In this article, we shall discuss the 30 most important scientific discoveries of all time. To skip our detailed analysis of how innovation is shaping the microeconomic outlook in 2023, go directly and see 10 Most Important Scientific Discoveries of All Time. In its most pedantic definition, innovation can be described as the ability to […]', 'article_url': 'https://finance.yahoo.com/news/30-most-important-scientific-discoveries-195243197.html?.tsrc=rss', 'entities': [{'symbol': 'AAPL', 'highlights': ['(NASDAQ:GOOG) and <em>Apple</em> <em>Inc</em>. (<em>NASDAQ:AAPL</em>). By investing in and maximizing innovative capabilities, these companies have achieved a substantial performance edge which differentiates them from their competitors in the market and in the process, have made some of the most important scientific discoveries of all time.', '(NASDAQ:GOOG) and <em>Apple</em> <em>Inc</em>. (<em>NASDAQ:AAPL</em>) and capitalize on emerging pockets of growth which can secure long-term prosperity.', '(NASDAQ:GOOG) and <em>Apple</em> <em>Inc</em>. (<em>NASDAQ:AAPL</em>) to tap into adjacent markets. Transport companies discovered lucrative niches in delivering restaurant food and other necessities, while most electric vehicle manufacturers monetized battery production and invested in recycling.']}, {'symbol': 'AMZN', 'highlights': ['In our article 25 Most Innovative Companies in the World in 2023, we have established that some of the most innovative companies in the world today are <em>Amazon.com</em> <em>Inc</em>. (<em>NASDAQ:AMZN</em>), Alphabet Inc. (NASDAQ:GOOG) and Apple Inc. (NASDAQ:AAPL).', 'The article asserts that companies need to follow in the footsteps of innovators like <em>Amazon.com</em> <em>Inc</em>. (<em>NASDAQ:AMZN</em>), Alphabet Inc. (NASDAQ:GOOG) and Apple Inc. (NASDAQ:AAPL) and capitalize on emerging pockets of growth which can secure long-term prosperity.', 'Economic uncertainties like the COVID-19 pandemic, supply-chain turbulence, and geopolitical shocks have led to major companies like <em>Amazon.com</em> <em>Inc</em>. (<em>NASDAQ:AMZN</em>), Alphabet Inc. (NASDAQ:GOOG) and Apple Inc. (NASDAQ:AAPL) to tap into adjacent markets.']}, {'symbol': 'GOOG', 'highlights': ['(NASDAQ:AMZN), <em>Alphabet</em> <em>Inc</em>. (<em>NASDAQ:GOOG</em>) and Apple Inc. (NASDAQ:AAPL). By investing in and maximizing innovative capabilities, these companies have achieved a substantial performance edge which differentiates them from their competitors in the market and in the process, have made some of the most important scientific discoveries of all time.', '(NASDAQ:AMZN), <em>Alphabet</em> <em>Inc</em>. (<em>NASDAQ:GOOG</em>) and Apple Inc. (NASDAQ:AAPL) and capitalize on emerging pockets of growth which can secure long-term prosperity.', '(NASDAQ:AMZN), <em>Alphabet</em> <em>Inc</em>. (<em>NASDAQ:GOOG</em>) and Apple Inc. (NASDAQ:AAPL) to tap into adjacent markets. Transport companies discovered lucrative niches in delivering restaurant food and other necessities, while most electric vehicle manufacturers monetized battery production and invested in recycling.']}, {'symbol': 'GOOGL', 'highlights': ['(NASDAQ:AMZN), <em>Alphabet</em> <em>Inc</em>. (NASDAQ:GOOG) and Apple Inc. (NASDAQ:AAPL). By investing in and maximizing innovative capabilities, these companies have achieved a substantial performance edge which differentiates them from their competitors in the market and in the process, have made some of the most important scientific discoveries of all time.', '(NASDAQ:AMZN), <em>Alphabet</em> <em>Inc</em>. (NASDAQ:GOOG) and Apple Inc. (NASDAQ:AAPL) and capitalize on emerging pockets of growth which can secure long-term prosperity.', '(NASDAQ:AMZN), <em>Alphabet</em> <em>Inc</em>. (NASDAQ:GOOG) and Apple Inc. (NASDAQ:AAPL) to tap into adjacent markets. Transport companies discovered lucrative niches in delivering restaurant food and other necessities, while most electric vehicle manufacturers monetized battery production and invested in recycling.']}]}, {'summary': 'LegalZoom Stock Flashing Renewed Strength; Gets Rating Upgrade. The raised 82 RS Rating shows that LegalZoom stock topped 82% of stocks, regardless of industry group, for price performance this past year', 'article_url': 'https://www.investors.com/news/stocks-flashing-renewed-technical-strength-legalzoom-com/', 'entities': [{'symbol': 'GOOGL', 'highlights': [\"Pinterest (PINS) and <em>Alphabet</em> (<em>GOOGL</em>) are also among the group's highest-rated stocks.\\n\\nWhen looking for the best stocks to buy and watch, a stock's relative price strength vs. other stocks is a good indicator.\\n\\nIBD's proprietary Relative Strength Rating measures market leadership with a 1 (worst) to 99 (best) score.\"]}]}, {'summary': 'YouTube requiring disclosure of AI-generated content, adding labels. YouTube is adding notices to artificial intelligence-created content and will now allow anyone whose image was used in a fake video to request it be removed.', 'article_url': 'https://www.foxbusiness.com/technology/youtube-requiring-disclosure-ai-generated-content-adding-labels', 'entities': [{'symbol': 'GOOG', 'highlights': ['Ticker Security Last Change Change % GOOG <em>ALPHABET</em> <em>INC</em>. 133.64 -0.42 -0.31%\\n\\n<em>Alphabet</em>, <em>Inc</em>.\\n\\nYouTube also said that it would be \"building responsibility\" into its AI tools and features.']}, {'symbol': 'GOOGL', 'highlights': ['Ticker Security Last Change Change % GOOG <em>ALPHABET</em> <em>INC</em>. 133.64 -0.42 -0.31%\\n\\n<em>Alphabet</em>, <em>Inc</em>.\\n\\nYouTube also said that it would be \"building responsibility\" into its AI tools and features.']}]}]\u001b[0m\n",
      "Thought:\u001b[32;1m\u001b[1;3m The financial news from AAPL,GOOGL and AMZN is mostly positive, with articles highlighting the success of these companies in the market and their innovative capabilities. There are a few articles discussing the impact of economic uncertainties like the COVID-19 pandemic on these companies, but overall they are seen as resilient and able to capitalize on emerging pockets of growth.\n",
      "\n",
      "Final Answer: The input question asks about the financial news of AAPL, GOOGL, and AMZN. After retrieving the financial news for these companies using the Marketaux tool, the final answer is that the financial news is mostly positive, with articles highlighting the success of these companies in the market and their innovative capabilities. There are a few articles discussing the impact of economic uncertainties like the COVID-19 pandemic on these companies, but they are seen as resilient and able to capitalize on emerging pockets of growth.\u001b[0m\n",
      "\n",
      "\u001b[1m> Finished chain.\u001b[0m\n"
     ]
    },
    {
     "data": {
      "text/plain": [
       "'The input question asks about the financial news of AAPL, GOOGL, and AMZN. After retrieving the financial news for these companies using the Marketaux tool, the final answer is that the financial news is mostly positive, with articles highlighting the success of these companies in the market and their innovative capabilities. There are a few articles discussing the impact of economic uncertainties like the COVID-19 pandemic on these companies, but they are seen as resilient and able to capitalize on emerging pockets of growth.'"
      ]
     },
     "execution_count": 13,
     "metadata": {},
     "output_type": "execute_result"
    }
   ],
   "source": [
    "agent_chain.run(input=\"What is the financial news of AAPL, GOOGL and AMZN\")"
   ]
  },
  {
   "cell_type": "code",
   "execution_count": null,
   "id": "441dd7a8",
   "metadata": {},
   "outputs": [],
   "source": [
    "agent_chain.run(input=\"Can you generate a sample for creating a simple AU/VST plugin using the JUCE SDK?\")"
   ]
  },
  {
   "cell_type": "code",
   "execution_count": null,
   "id": "0e51d0fe",
   "metadata": {},
   "outputs": [],
   "source": [
    "agent_chain.run(\"Can you provide me with come of these tutorial links?\")"
   ]
  },
  {
   "cell_type": "code",
   "execution_count": null,
   "id": "b938e99b",
   "metadata": {},
   "outputs": [],
   "source": [
    "agent_chain.run(\"I'm looking to install EV charging stations for my mall in the city of Toronto. What are some options of providers out there on the market right now\")\n"
   ]
  },
  {
   "cell_type": "code",
   "execution_count": null,
   "id": "2b62ad3b",
   "metadata": {},
   "outputs": [],
   "source": [
    "agent_chain.run(\"what are the biggest differences between each of these providers?\")"
   ]
  }
 ],
 "metadata": {
  "kernelspec": {
   "display_name": "Python 3 (ipykernel)",
   "language": "python",
   "name": "python3"
  },
  "language_info": {
   "codemirror_mode": {
    "name": "ipython",
    "version": 3
   },
   "file_extension": ".py",
   "mimetype": "text/x-python",
   "name": "python",
   "nbconvert_exporter": "python",
   "pygments_lexer": "ipython3",
   "version": "3.11.5"
  }
 },
 "nbformat": 4,
 "nbformat_minor": 5
}
