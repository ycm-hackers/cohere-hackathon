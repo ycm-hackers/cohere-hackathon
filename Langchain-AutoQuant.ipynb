{
 "cells": [
  {
   "cell_type": "code",
   "execution_count": 7,
   "id": "cebd12cf",
   "metadata": {},
   "outputs": [],
   "source": [
    "import os\n",
    "from dotenv import load_dotenv"
   ]
  },
  {
   "cell_type": "code",
   "execution_count": 8,
   "id": "a2fe23f2",
   "metadata": {},
   "outputs": [
    {
     "data": {
      "text/plain": [
       "True"
      ]
     },
     "execution_count": 8,
     "metadata": {},
     "output_type": "execute_result"
    }
   ],
   "source": [
    "load_dotenv()"
   ]
  },
  {
   "cell_type": "code",
   "execution_count": 9,
   "id": "e01fd9e9",
   "metadata": {},
   "outputs": [],
   "source": [
    "COHERE_API_KEY = os.environ['COHERE_API_KEY']"
   ]
  },
  {
   "cell_type": "code",
   "execution_count": 14,
   "id": "c0c49e1c",
   "metadata": {},
   "outputs": [],
   "source": [
    "from langchain.agents import Tool\n",
    "from langchain.agents import AgentType\n",
    "from langchain.memory import ConversationBufferMemory\n",
    "from langchain.llms import Cohere, OpenAI\n",
    "from langchain.utilities import SerpAPIWrapper\n",
    "from langchain.agents import initialize_agent"
   ]
  },
  {
   "cell_type": "code",
   "execution_count": 15,
   "id": "749c275a",
   "metadata": {},
   "outputs": [
    {
     "ename": "ModuleNotFoundError",
     "evalue": "No module named 'langchain.callbacks.manager'",
     "output_type": "error",
     "traceback": [
      "\u001b[0;31m---------------------------------------------------------------------------\u001b[0m",
      "\u001b[0;31mModuleNotFoundError\u001b[0m                       Traceback (most recent call last)",
      "Cell \u001b[0;32mIn[15], line 1\u001b[0m\n\u001b[0;32m----> 1\u001b[0m \u001b[38;5;28;01mfrom\u001b[39;00m \u001b[38;5;21;01mtools\u001b[39;00m \u001b[38;5;28;01mimport\u001b[39;00m (\n\u001b[1;32m      2\u001b[0m     MarketauxTool,\n\u001b[1;32m      3\u001b[0m     SecTool,\n\u001b[1;32m      4\u001b[0m     AlpacaBuyOrderTool,\n\u001b[1;32m      5\u001b[0m     AlpacaBuyingPowerTool,\n\u001b[1;32m      6\u001b[0m     AlpacaCurrentPositionsTool,\n\u001b[1;32m      7\u001b[0m     AlpacaGainLossStatusTool,\n\u001b[1;32m      8\u001b[0m     AlpacaOpenOrdersTool,\n\u001b[1;32m      9\u001b[0m     AlpacaCreateSellOrderTool\n\u001b[1;32m     10\u001b[0m )\n",
      "File \u001b[0;32m~/Desktop/autogen/cohere-hackathon/tools/__init__.py:1\u001b[0m\n\u001b[0;32m----> 1\u001b[0m \u001b[38;5;28;01mfrom\u001b[39;00m \u001b[38;5;21;01mtools\u001b[39;00m\u001b[38;5;21;01m.\u001b[39;00m\u001b[38;5;21;01mmarketaux_tool\u001b[39;00m \u001b[38;5;28;01mimport\u001b[39;00m MarketauxTool\n\u001b[1;32m      2\u001b[0m \u001b[38;5;28;01mfrom\u001b[39;00m \u001b[38;5;21;01mtools\u001b[39;00m\u001b[38;5;21;01m.\u001b[39;00m\u001b[38;5;21;01msec_tool\u001b[39;00m \u001b[38;5;28;01mimport\u001b[39;00m SecTool\n\u001b[1;32m      3\u001b[0m \u001b[38;5;28;01mfrom\u001b[39;00m \u001b[38;5;21;01mtools\u001b[39;00m\u001b[38;5;21;01m.\u001b[39;00m\u001b[38;5;21;01malpaca_tools\u001b[39;00m \u001b[38;5;28;01mimport\u001b[39;00m (\n\u001b[1;32m      4\u001b[0m     AlpacaBuyOrderTool,\n\u001b[1;32m      5\u001b[0m     AlpacaBuyingPowerTool,\n\u001b[0;32m   (...)\u001b[0m\n\u001b[1;32m      9\u001b[0m     AlpacaCreateSellOrderTool\n\u001b[1;32m     10\u001b[0m )\n",
      "File \u001b[0;32m~/Desktop/autogen/cohere-hackathon/tools/marketaux_tool.py:8\u001b[0m\n\u001b[1;32m      6\u001b[0m \u001b[38;5;28;01mfrom\u001b[39;00m \u001b[38;5;21;01mlangchain\u001b[39;00m\u001b[38;5;21;01m.\u001b[39;00m\u001b[38;5;21;01mtools\u001b[39;00m\u001b[38;5;21;01m.\u001b[39;00m\u001b[38;5;21;01mbase\u001b[39;00m \u001b[38;5;28;01mimport\u001b[39;00m BaseTool, BaseModel\n\u001b[1;32m      7\u001b[0m \u001b[38;5;28;01mfrom\u001b[39;00m \u001b[38;5;21;01mlangchain\u001b[39;00m\u001b[38;5;21;01m.\u001b[39;00m\u001b[38;5;21;01mpydantic_v1\u001b[39;00m \u001b[38;5;28;01mimport\u001b[39;00m Field\n\u001b[0;32m----> 8\u001b[0m \u001b[38;5;28;01mfrom\u001b[39;00m \u001b[38;5;21;01mlangchain\u001b[39;00m\u001b[38;5;21;01m.\u001b[39;00m\u001b[38;5;21;01mcallbacks\u001b[39;00m\u001b[38;5;21;01m.\u001b[39;00m\u001b[38;5;21;01mmanager\u001b[39;00m \u001b[38;5;28;01mimport\u001b[39;00m (\n\u001b[1;32m      9\u001b[0m     AsyncCallbackManagerForToolRun,\n\u001b[1;32m     10\u001b[0m     CallbackManagerForToolRun,\n\u001b[1;32m     11\u001b[0m )\n\u001b[1;32m     13\u001b[0m \u001b[38;5;66;03m# Load environment variables\u001b[39;00m\n\u001b[1;32m     14\u001b[0m load_dotenv()\n",
      "\u001b[0;31mModuleNotFoundError\u001b[0m: No module named 'langchain.callbacks.manager'"
     ]
    }
   ],
   "source": [
    "from tools import (\n",
    "    MarketauxTool,\n",
    "    SecTool,\n",
    "    AlpacaBuyOrderTool,\n",
    "    AlpacaBuyingPowerTool,\n",
    "    AlpacaCurrentPositionsTool,\n",
    "    AlpacaGainLossStatusTool,\n",
    "    AlpacaOpenOrdersTool,\n",
    "    AlpacaCreateSellOrderTool\n",
    ")"
   ]
  },
  {
   "cell_type": "code",
   "execution_count": null,
   "id": "be51010f",
   "metadata": {},
   "outputs": [],
   "source": [
    "tools = [\n",
    "    MarketauxTool(),\n",
    "    AlpacaBuyOrderTool(),\n",
    "    AlpacaBuyingPowerTool(),\n",
    "    AlpacaCurrentPositionsTool(),\n",
    "    AlpacaGainLossStatusTool(),\n",
    "    AlpacaOpenOrdersTool(),\n",
    "    AlpacaCreateSellOrderTool()\n",
    "]"
   ]
  },
  {
   "cell_type": "code",
   "execution_count": null,
   "id": "5d13a9a7",
   "metadata": {},
   "outputs": [],
   "source": [
    "memory = ConversationBufferMemory(memory_key=\"chat_history\")"
   ]
  },
  {
   "cell_type": "code",
   "execution_count": null,
   "id": "43edc2dc",
   "metadata": {},
   "outputs": [],
   "source": [
    "llm = Cohere(cohere_api_key=COHERE_API_KEY)"
   ]
  },
  {
   "cell_type": "code",
   "execution_count": null,
   "id": "af691e95",
   "metadata": {},
   "outputs": [],
   "source": [
    "agent_chain = initialize_agent(tools, llm, agent=AgentType.ZERO_SHOT_REACT_DESCRIPTION, verbose=True, memory=memory)"
   ]
  },
  {
   "cell_type": "code",
   "execution_count": null,
   "id": "2629de82",
   "metadata": {},
   "outputs": [],
   "source": [
    "agent_chain.run(input=\"Get latest market news, check portfolio, take appropriate actions to maximize investment profits which may mean buy, sell, or wait for AAPL, GOOGL and AMZN\")"
   ]
  },
  {
   "cell_type": "code",
   "execution_count": null,
   "id": "a412b4ba",
   "metadata": {},
   "outputs": [],
   "source": []
  }
 ],
 "metadata": {
  "kernelspec": {
   "display_name": "Python 3 (ipykernel)",
   "language": "python",
   "name": "python3"
  },
  "language_info": {
   "codemirror_mode": {
    "name": "ipython",
    "version": 3
   },
   "file_extension": ".py",
   "mimetype": "text/x-python",
   "name": "python",
   "nbconvert_exporter": "python",
   "pygments_lexer": "ipython3",
   "version": "3.11.5"
  }
 },
 "nbformat": 4,
 "nbformat_minor": 5
}
